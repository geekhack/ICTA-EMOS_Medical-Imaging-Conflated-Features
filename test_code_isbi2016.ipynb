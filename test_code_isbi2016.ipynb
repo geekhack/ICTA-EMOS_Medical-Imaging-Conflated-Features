{
 "cells": [
  {
   "cell_type": "code",
   "execution_count": 5,
   "metadata": {},
   "outputs": [
    {
     "name": "stdout",
     "output_type": "stream",
     "text": [
      "Collecting opencv-python\n",
      "  Downloading opencv_python-4.6.0.66-cp36-abi3-manylinux_2_17_x86_64.manylinux2014_x86_64.whl (60.9 MB)\n",
      "\u001b[K     |████████████████████████████████| 60.9 MB 251 kB/s  eta 0:00:01\n",
      "\u001b[?25hRequirement already satisfied: numpy>=1.13.3; python_version < \"3.7\" in /usr/local/lib/python3.6/dist-packages (from opencv-python) (1.19.5)\n",
      "Installing collected packages: opencv-python\n",
      "Successfully installed opencv-python-4.6.0.66\n",
      "\u001b[33mWARNING: You are using pip version 20.2.4; however, version 21.3.1 is available.\n",
      "You should consider upgrading via the '/usr/bin/python3 -m pip install --upgrade pip' command.\u001b[0m\n",
      "Collecting opencv-python-headless\n",
      "  Downloading opencv_python_headless-4.6.0.66-cp36-abi3-manylinux_2_17_x86_64.manylinux2014_x86_64.whl (48.3 MB)\n",
      "\u001b[K     |████████████████████████████████| 48.3 MB 22.9 MB/s eta 0:00:01\n",
      "\u001b[?25hRequirement already satisfied: numpy>=1.13.3; python_version < \"3.7\" in /usr/local/lib/python3.6/dist-packages (from opencv-python-headless) (1.19.5)\n",
      "Installing collected packages: opencv-python-headless\n",
      "Successfully installed opencv-python-headless-4.6.0.66\n",
      "\u001b[33mWARNING: You are using pip version 20.2.4; however, version 21.3.1 is available.\n",
      "You should consider upgrading via the '/usr/bin/python3 -m pip install --upgrade pip' command.\u001b[0m\n"
     ]
    }
   ],
   "source": [
    "!pip install opencv-python\n",
    "!pip install opencv-python-headless"
   ]
  },
  {
   "cell_type": "code",
   "execution_count": 6,
   "metadata": {},
   "outputs": [],
   "source": [
    "import numpy as np\n",
    "import cv2 as cv\n",
    "import pandas as pd\n",
    "import cv2\n",
    "from os import listdir\n",
    "from os.path import isfile, join\n",
    "from numpy import expand_dims, array, exp, max\n",
    "import json\n",
    "import csv\n",
    "import os\n",
    "import scipy\n",
    "from scipy import ndimage\n",
    "import imageio"
   ]
  },
  {
   "cell_type": "code",
   "execution_count": 7,
   "metadata": {},
   "outputs": [],
   "source": [
    "# set the model hyper parameters\n",
    "BATCH_SIZE = 8\n",
    "# set the image size to fit the resnet model for lower overfitting\n",
    "IMG_SIZE = (224, 224)"
   ]
  },
  {
   "cell_type": "code",
   "execution_count": 29,
   "metadata": {},
   "outputs": [],
   "source": [
    "#@train_df = pd.read_csv(\"files/test_correlation_above_glcm.csv\")\n",
    "#train_df2 = pd.read_csv(\"files/test_correlation_below_glcm.csv\")\n",
    "\n",
    "train_df = pd.read_csv(\"Testing.csv\")\n",
    "train_df2 = pd.read_csv(\"Training.csv\")"
   ]
  },
  {
   "cell_type": "code",
   "execution_count": 33,
   "metadata": {},
   "outputs": [
    {
     "name": "stdout",
     "output_type": "stream",
     "text": [
      "             file  class\n",
      "0    ISIC_0000003    0.0\n",
      "1    ISIC_0000012    0.0\n",
      "2    ISIC_0000013    1.0\n",
      "3    ISIC_0000014    0.0\n",
      "4    ISIC_0000015    0.0\n",
      "..            ...    ...\n",
      "374  ISIC_0011367    0.0\n",
      "375  ISIC_0011374    1.0\n",
      "376  ISIC_0011384    0.0\n",
      "377  ISIC_0011386    0.0\n",
      "378  ISIC_0011392    0.0\n",
      "\n",
      "[379 rows x 2 columns]\n"
     ]
    }
   ],
   "source": [
    "print(train_df)"
   ]
  },
  {
   "cell_type": "code",
   "execution_count": 30,
   "metadata": {},
   "outputs": [],
   "source": [
    "import shutil"
   ]
  },
  {
   "cell_type": "code",
   "execution_count": 37,
   "metadata": {},
   "outputs": [],
   "source": [
    "origin = 'Testing/'\n",
    "\n",
    "files = os.listdir(origin)\n",
    "    \n",
    "for index, row in train_df.iterrows():\n",
    "    file_name = row[0]\n",
    "    file_class = row[1]\n",
    "    ##file_class = row[1]+\"/\" for the training images\n",
    "    if file_class == 0.0:\n",
    "        file_class = \"benign/\"\n",
    "    elif file_class == 1.0:\n",
    "        file_class = \"malignant/\"\n",
    "    \n",
    "    \n",
    "    #loop through images in a folder  \n",
    "    full_name =file_name+\".jpg\"\n",
    "    \n",
    "    filecheck = os.path.isfile(\"Testing/\"+full_name)\n",
    "    \n",
    "    if filecheck:\n",
    "        shutil.copy(origin+full_name, file_class+full_name)     \n",
    "        #this copies all the files into either benign or malignant"
   ]
  }
 ],
 "metadata": {
  "kernelspec": {
   "display_name": "Python 3",
   "language": "python",
   "name": "python3"
  },
  "language_info": {
   "codemirror_mode": {
    "name": "ipython",
    "version": 3
   },
   "file_extension": ".py",
   "mimetype": "text/x-python",
   "name": "python",
   "nbconvert_exporter": "python",
   "pygments_lexer": "ipython3",
   "version": "3.6.9"
  }
 },
 "nbformat": 4,
 "nbformat_minor": 2
}
