{
 "cells": [
  {
   "cell_type": "code",
   "execution_count": 2,
   "metadata": {},
   "outputs": [],
   "source": [
    "from __future__ import division\n",
    "import json\n",
    "import numpy as np\n",
    "from decimal import Decimal\n",
    "from numpy import expand_dims, array, exp, max\n",
    "import scipy\n",
    "from scipy.special import rel_entr\n",
    "import csv\n",
    "import statistics"
   ]
  },
  {
   "cell_type": "code",
   "execution_count": 3,
   "metadata": {},
   "outputs": [],
   "source": [
    "# to suppress division errors\n",
    "np.seterr(divide='ignore', invalid='ignore')\n",
    "new_final_source_array = []"
   ]
  },
  {
   "cell_type": "code",
   "execution_count": 4,
   "metadata": {},
   "outputs": [],
   "source": [
    "# Opening final JSON files\n",
    "contrast_source_data = open('files/source_lbp/source_domain_lbp.json')\n",
    "\n",
    "#for target data\n",
    "contrast_target_data = open('files/densenet121/covid/covid_target_domain_lbp.json')"
   ]
  },
  {
   "cell_type": "code",
   "execution_count": 5,
   "metadata": {},
   "outputs": [],
   "source": [
    "# returns JSON object\n",
    "contrast_source_data_d = json.load(contrast_source_data)\n",
    "\n",
    "contrast_target_data_d = json.load(contrast_target_data)"
   ]
  },
  {
   "cell_type": "code",
   "execution_count": 6,
   "metadata": {},
   "outputs": [],
   "source": [
    "# kdl dictionary\n",
    "kdl_dictionary = {}"
   ]
  },
  {
   "cell_type": "code",
   "execution_count": 7,
   "metadata": {},
   "outputs": [],
   "source": [
    "def KL(p, q):\n",
    "    a = []\n",
    "    b = []\n",
    "    for k in p:\n",
    "        a.append(Decimal(k))\n",
    "\n",
    "    for l in q:\n",
    "        b.append(Decimal(l))\n",
    "\n",
    "    a = np.asarray(a, dtype=np.float64)\n",
    "    b = np.asarray(b, dtype=np.float64)\n",
    "\n",
    "    return np.sum(np.where(((a != 0) & (b != 0)), a * np.log(a / b), 0))"
   ]
  },
  {
   "cell_type": "code",
   "execution_count": 8,
   "metadata": {},
   "outputs": [],
   "source": [
    "def softMax(temperature, features_list):\n",
    "    feat_list = [x / temperature for x in features_list]\n",
    "    feature_list = exp(feat_list - max(feat_list))\n",
    "    return feature_list / feature_list.sum(axis=0)"
   ]
  },
  {
   "cell_type": "code",
   "execution_count": 9,
   "metadata": {},
   "outputs": [],
   "source": [
    "# get the data for the contrast target image\n",
    "contrast_target_data_array = []\n",
    "for p in range(0, len(contrast_target_data_d['target_images'])):\n",
    "    for i, j in contrast_target_data_d['target_images'][p].items():\n",
    "        contrast_target_data_array.append((i,np.array(j)))\n",
    "contrast_target_data.close()"
   ]
  },
  {
   "cell_type": "code",
   "execution_count": 10,
   "metadata": {},
   "outputs": [
    {
     "name": "stdout",
     "output_type": "stream",
     "text": [
      "4000\n"
     ]
    }
   ],
   "source": [
    "print(len(contrast_target_data_array))"
   ]
  },
  {
   "cell_type": "code",
   "execution_count": 11,
   "metadata": {},
   "outputs": [],
   "source": [
    "###contrast comparison code\n",
    "contrast_All_Images = []\n",
    "contrast_average_dkl = []\n",
    "\n",
    "for x in contrast_target_data_array:\n",
    "#for x in target_data_array:\n",
    "    t_images_btween_0_05 = []\n",
    "    t_images_btween_05_1 = []\n",
    "    t_images_btween_1_2 = []\n",
    "    t_images_grt_2_5 = []\n",
    "    t_images_grt_5_10 = []\n",
    "    t_images_grt_10 = []\n",
    "    \n",
    "    image_name_class =  x[0].split('_/') #name[0]; class[1]\n",
    "    compare_min_max = []\n",
    "    \n",
    "    \n",
    "            \n",
    "    # get the data for the source images\n",
    "    for m in range(0, len(contrast_source_data_d['source_images'])):\n",
    "        #print(\"source\",source_data_d['source_images'][m][0])\n",
    "        for k, v in contrast_source_data_d['source_images'][m].items():\n",
    "            # compare the value of v with that of the target image\n",
    "            # if 'caterpillar' in k.lower():\n",
    "            # remove the zeros from the list\n",
    "            new_v = np.array(v).flatten()\n",
    "            #get the top items in x\n",
    "            items = np.sort(x[1])\n",
    "            item_size = items[-len(new_v):]\n",
    "            new_x = item_size.flatten()\n",
    "            \n",
    "            new_d = softMax(0.5, new_x)     \n",
    "            new_y = softMax(0.5, new_v)\n",
    "            \n",
    "            kdl = rel_entr( new_x, new_v, out=None)\n",
    "            \n",
    "            compare_min_max.append((image_name_class[0],image_name_class[1],k, max(kdl)))\n",
    "            #loop through the list\n",
    "            #target_v = softMax(0.5,x[1].flatten())#target_data_array[0]   \n",
    "            #print(target_v.shape)\n",
    "            #kdl = rel_entr(x[1], np.array(v),out=None)\n",
    "    \n",
    "    ######min_max_v = []\n",
    "           \n",
    "    #####for max_kdl in compare_min_max: \n",
    "       \n",
    "        ####min_max_v.append((max_kdl[0],max_kdl[1],max_kdl[2],max_kdl[3]))\n",
    "    \n",
    "    ####for df in min_max_v:\n",
    "        ###max_kdl_v = max(df[3])\n",
    "        ####min_kdl_v = min(df[3])\n",
    "        ###if(max_kdl_v >=0 and max_kdl_v <0.5 ):\n",
    "            ###t_images_btween_0_05.append((df[2],image_name_class[0],image_name_class[1],max_kdl_v,min_kdl_v))\n",
    "        ###elif(max_kdl_v >=0.5 and max_kdl_v <1 ):\n",
    "            ###t_images_btween_05_1.append((df[2],image_name_class[0],image_name_class[1],max_kdl_v,min_kdl_v))\n",
    "            \n",
    "        ###elif(max_kdl_v >=1 and max_kdl_v <2 ):\n",
    "            ###t_images_btween_1_2.append((df[2],image_name_class[0],image_name_class[1], max_kdl_v,min_kdl_v))\n",
    "        ###elif(max_kdl_v >=2 and max_kdl_v <5 ):\n",
    "            ####t_images_grt_2_5.append((df[2],image_name_class[0],image_name_class[1], max_kdl_v,min_kdl_v))\n",
    "        ####elif(max_kdl_v >=5 and max_kdl_v <10 ):\n",
    "            ###t_images_grt_5_10.append((df[2],image_name_class[0],image_name_class[1], max_kdl_v,min_kdl_v))\n",
    "        ####elif max_kdl_v >=10:\n",
    "            ###t_images_grt_10.append((df[2],image_name_class[0],image_name_class[1], max_kdl_v,min_kdl_v))\n",
    "            \n",
    "    #print(min_max_v)\n",
    "    #####All_Images.append((image_name_class[0],image_name_class[1],list((len(t_images_btween_0_05),len(t_images_btween_05_1),len(t_images_btween_1_2),len(t_images_grt_2_5), len(t_images_grt_5_10),len(t_images_grt_10)))))\n",
    "    contrast_All_Images.append(compare_min_max)\n",
    "contrast_source_data.close()"
   ]
  },
  {
   "cell_type": "code",
   "execution_count": null,
   "metadata": {},
   "outputs": [],
   "source": []
  },
  {
   "cell_type": "code",
   "execution_count": 12,
   "metadata": {},
   "outputs": [],
   "source": [
    "contrast_sum_dkls = 0\n",
    "contrast_all_nums = []\n",
    "for df in contrast_All_Images:\n",
    "    contrast_sum_dkls = contrast_sum_dkls + df[1][3]\n",
    "    contrast_all_nums.append(df[1][3])\n",
    "    #print(df[1][3])\n",
    "contrast_average_dkl_v = contrast_sum_dkls/ len(contrast_All_Images)\n",
    "contrast_median_v = statistics.median(contrast_all_nums)\n",
    "#get the values below and above the average\n",
    "contrast_below_avrg = []\n",
    "contrast_above_avrg = []\n",
    "\n",
    "for fg in contrast_All_Images:\n",
    "    if fg[1][3] < contrast_average_dkl_v:\n",
    "        contrast_below_avrg.append(fg[1])\n",
    "    elif fg[1][3] >= contrast_average_dkl_v:\n",
    "        contrast_above_avrg.append(fg[1])"
   ]
  },
  {
   "cell_type": "code",
   "execution_count": 13,
   "metadata": {},
   "outputs": [],
   "source": [
    "contrast_above_other = []\n",
    "for w in contrast_above_avrg:\n",
    "    image_n = w[1]+\"/\"+w[0]\n",
    "    image_c = w[1]\n",
    "    \n",
    "    contrast_above_other.append((image_n,image_c))"
   ]
  },
  {
   "cell_type": "code",
   "execution_count": 14,
   "metadata": {},
   "outputs": [
    {
     "name": "stdout",
     "output_type": "stream",
     "text": [
      "497\n"
     ]
    }
   ],
   "source": [
    "print(len(contrast_below_avrg))"
   ]
  },
  {
   "cell_type": "code",
   "execution_count": 15,
   "metadata": {},
   "outputs": [],
   "source": [
    "#save the image and class in csv\n",
    "with open('files/densenet121/covid/lbp_results/covid_lbp_above.csv', 'w', encoding='UTF8', newline='') as f:\n",
    "    writer = csv.writer(f)  # write the header\n",
    "    writer.writerow([\"file\", \"label\"])\n",
    "    for l_item in contrast_above_other:\n",
    "        writer.writerow(l_item)\n",
    "\n",
    "\n",
    "        \n",
    "\n"
   ]
  },
  {
   "cell_type": "code",
   "execution_count": 16,
   "metadata": {},
   "outputs": [],
   "source": [
    "contrast_below_other = []\n",
    "for z in contrast_below_avrg:\n",
    "    image_n = z[1]+\"/\"+z[0]\n",
    "    image_c = z[1]\n",
    "    contrast_below_other.append((image_n,image_c))\n",
    "\n"
   ]
  },
  {
   "cell_type": "code",
   "execution_count": 17,
   "metadata": {},
   "outputs": [
    {
     "name": "stdout",
     "output_type": "stream",
     "text": [
      "497\n"
     ]
    }
   ],
   "source": [
    "print(len(contrast_below_other))"
   ]
  },
  {
   "cell_type": "code",
   "execution_count": 18,
   "metadata": {},
   "outputs": [],
   "source": [
    "#save the image and class in csv\n",
    "with open('files/densenet121/covid/lbp_results/covid_lbp_below.csv', 'w', encoding='UTF8', newline='') as f:\n",
    "    writer = csv.writer(f)  # write the header\n",
    "    writer.writerow([\"file\", \"label\"])\n",
    "    for l_item in contrast_below_other:\n",
    "        writer.writerow(l_item)"
   ]
  },
  {
   "cell_type": "code",
   "execution_count": null,
   "metadata": {},
   "outputs": [],
   "source": []
  }
 ],
 "metadata": {
  "kernelspec": {
   "display_name": "Python 3",
   "language": "python",
   "name": "python3"
  }
 },
 "nbformat": 4,
 "nbformat_minor": 2
}
